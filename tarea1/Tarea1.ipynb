{
 "cells": [
  {
   "cell_type": "markdown",
   "metadata": {
    "colab_type": "text",
    "id": "EXjILTW0qycF"
   },
   "source": [
    "# Python Exercises, practice  \n",
    "\n",
    "\n",
    "+ __Student 1:__Steven Ma Mei\n",
    "+ __Student 2:__ Juan Esteban López"
   ]
  },
  {
   "cell_type": "markdown",
   "metadata": {
    "colab_type": "text",
    "id": "10Lm2EyuqycH"
   },
   "source": [
    "__1 exercise__\n",
    "\n",
    "print hello world\n"
   ]
  },
  {
   "cell_type": "code",
   "execution_count": 1,
   "metadata": {
    "colab": {
     "base_uri": "https://localhost:8080/",
     "height": 34
    },
    "colab_type": "code",
    "id": "_0YDTLJgqycI",
    "outputId": "2b9cc9aa-5974-4130-bd38-f297ff2af516"
   },
   "outputs": [
    {
     "name": "stdout",
     "output_type": "stream",
     "text": [
      "hello world\n"
     ]
    }
   ],
   "source": [
    "print(\"hello world\")"
   ]
  },
  {
   "cell_type": "markdown",
   "metadata": {
    "colab_type": "text",
    "id": "nttxgKOmqycM"
   },
   "source": [
    "__2 exercise__\n",
    "\n",
    "Let's create a variable with the name _variable_ and assign it the value \"hello world\"."
   ]
  },
  {
   "cell_type": "code",
   "execution_count": 2,
   "metadata": {
    "colab": {},
    "colab_type": "code",
    "id": "7qzQDzDVqycN"
   },
   "outputs": [],
   "source": [
    "variable= \"hello world\""
   ]
  },
  {
   "cell_type": "markdown",
   "metadata": {
    "colab_type": "text",
    "id": "4ld1qLvPqycP"
   },
   "source": [
    "__3 exercise__\n",
    "\n",
    "Print the type of _variable_"
   ]
  },
  {
   "cell_type": "code",
   "execution_count": 3,
   "metadata": {
    "colab": {
     "base_uri": "https://localhost:8080/",
     "height": 34
    },
    "colab_type": "code",
    "id": "dg-k72VPqycQ",
    "outputId": "80f1227a-3c47-4dd8-cebd-ef7c8484a559"
   },
   "outputs": [
    {
     "data": {
      "text/plain": [
       "str"
      ]
     },
     "execution_count": 3,
     "metadata": {},
     "output_type": "execute_result"
    }
   ],
   "source": [
    "type(variable)"
   ]
  },
  {
   "cell_type": "markdown",
   "metadata": {
    "colab_type": "text",
    "id": "v4HtD_8fqycT"
   },
   "source": [
    "__4 exercise__\n",
    "\n",
    "Let's remove the word \" world\" from _variable_"
   ]
  },
  {
   "cell_type": "code",
   "execution_count": 4,
   "metadata": {
    "colab": {
     "base_uri": "https://localhost:8080/",
     "height": 34
    },
    "colab_type": "code",
    "id": "MKrSu11zqycU",
    "outputId": "444ab3ed-7b96-4748-da9d-6d8db2ff579b"
   },
   "outputs": [
    {
     "data": {
      "text/plain": [
       "'hello'"
      ]
     },
     "execution_count": 4,
     "metadata": {},
     "output_type": "execute_result"
    }
   ],
   "source": [
    "variable.replace(\" world\",\"\")"
   ]
  },
  {
   "cell_type": "markdown",
   "metadata": {
    "colab_type": "text",
    "id": "A4WcQa0lqycX"
   },
   "source": [
    "__2 exercise__\n",
    "\n",
    "Let's make a function which receives a list of number from 1 to 20 and prints only the number that are odd."
   ]
  },
  {
   "cell_type": "code",
   "execution_count": 5,
   "metadata": {
    "colab": {},
    "colab_type": "code",
    "id": "NpdVkzHmqycY"
   },
   "outputs": [],
   "source": [
    "def function(list):\n",
    "    for i in list:\n",
    "        if int(i)%2!=0:\n",
    "            print(i)"
   ]
  },
  {
   "cell_type": "code",
   "execution_count": 6,
   "metadata": {
    "colab": {
     "base_uri": "https://localhost:8080/",
     "height": 187
    },
    "colab_type": "code",
    "id": "0_Tok46Iqycb",
    "outputId": "7d2dfae3-f1cf-40db-834e-bee5b7e85547"
   },
   "outputs": [
    {
     "name": "stdout",
     "output_type": "stream",
     "text": [
      "1\n",
      "3\n",
      "5\n",
      "7\n",
      "9\n",
      "11\n",
      "13\n",
      "15\n",
      "17\n",
      "19\n"
     ]
    }
   ],
   "source": [
    "function(range(1,21))"
   ]
  },
  {
   "cell_type": "markdown",
   "metadata": {
    "colab_type": "text",
    "id": "rZI9dEECqyce"
   },
   "source": [
    "__3 exercise__\n",
    "\n",
    "Let's make a method in a Python file which receives two parameters:\n",
    "\n",
    "+ A list of integers \n",
    "+ An exponent number \n",
    "\n",
    "$b^{n} = b \\times \\dots \\times b$  \n",
    "\n",
    "The method allows us to calculate the exponentiation of each number in the list.\n",
    "\n",
    "We must import the file and use it to call the method"
   ]
  },
  {
   "cell_type": "code",
   "execution_count": 7,
   "metadata": {
    "colab": {},
    "colab_type": "code",
    "id": "X7IZA5hXqycf"
   },
   "outputs": [],
   "source": [
    "import mi "
   ]
  },
  {
   "cell_type": "code",
   "execution_count": 8,
   "metadata": {
    "colab": {
     "base_uri": "https://localhost:8080/",
     "height": 170
    },
    "colab_type": "code",
    "id": "TvHBy6TUqycl",
    "outputId": "cb79786e-6d69-49af-8ac0-df6bbc7f06df"
   },
   "outputs": [
    {
     "name": "stdout",
     "output_type": "stream",
     "text": [
      "1.0\n",
      "4.0\n",
      "9.0\n",
      "16.0\n",
      "25.0\n",
      "36.0\n",
      "49.0\n",
      "64.0\n",
      "81.0\n"
     ]
    }
   ],
   "source": [
    "mi.method(range(1,10),2)"
   ]
  },
  {
   "cell_type": "markdown",
   "metadata": {
    "colab_type": "text",
    "id": "jGvwu7Iyqyco"
   },
   "source": [
    "__4 exercise__\n",
    "\n",
    "The idea is to do a dictionary _diccionario_ with the next keys and values:\n",
    "\n",
    "_variableUno_: [1,2,3,4]\n",
    "\n",
    "_variableDos_: [\"1\",\"a\",\"?\"]\n"
   ]
  },
  {
   "cell_type": "code",
   "execution_count": 9,
   "metadata": {
    "colab": {},
    "colab_type": "code",
    "id": "mHJu0iebqycp"
   },
   "outputs": [],
   "source": [
    "diccionario={\"variableUno\":[1,2,3,4], \"variableDos\":[\"1\",\"a\",\"?\"]}"
   ]
  },
  {
   "cell_type": "code",
   "execution_count": 10,
   "metadata": {
    "colab": {
     "base_uri": "https://localhost:8080/",
     "height": 34
    },
    "colab_type": "code",
    "id": "vJkvAFy8qycs",
    "outputId": "440f22f2-3137-43c5-9ff8-76758f425ce8"
   },
   "outputs": [
    {
     "data": {
      "text/plain": [
       "{'variableUno': [1, 2, 3, 4], 'variableDos': ['1', 'a', '?']}"
      ]
     },
     "execution_count": 10,
     "metadata": {},
     "output_type": "execute_result"
    }
   ],
   "source": [
    "diccionario"
   ]
  },
  {
   "cell_type": "markdown",
   "metadata": {
    "colab_type": "text",
    "id": "zaM32JM6qycu"
   },
   "source": [
    "__5 exercise__\n",
    "\n",
    "Change the first letter of \"Spam\" to \"z\" "
   ]
  },
  {
   "cell_type": "code",
   "execution_count": 11,
   "metadata": {
    "colab": {
     "base_uri": "https://localhost:8080/",
     "height": 34
    },
    "colab_type": "code",
    "id": "9EhFInLDqycy",
    "outputId": "5ce1f703-45ec-4f4c-f951-0ba824ee8f46"
   },
   "outputs": [
    {
     "data": {
      "text/plain": [
       "'zpam'"
      ]
     },
     "execution_count": 11,
     "metadata": {},
     "output_type": "execute_result"
    }
   ],
   "source": [
    "spam = \"Spam\"\n",
    "spam.replace(spam[0],\"z\",1)"
   ]
  },
  {
   "cell_type": "markdown",
   "metadata": {
    "colab_type": "text",
    "id": "h-qSXZzeqyc1"
   },
   "source": [
    "__6 exercise__\n",
    "\n",
    "let's do a program which receives some parameters in order to calculate the perimeter of a rectangle.\n",
    "\n",
    "$p = 2x + 2y$"
   ]
  },
  {
   "cell_type": "code",
   "execution_count": 12,
   "metadata": {
    "colab": {
     "base_uri": "https://localhost:8080/",
     "height": 68
    },
    "colab_type": "code",
    "id": "68qhWrCQqyc2",
    "outputId": "97fe6242-200e-4016-cdd5-04b5301c096a"
   },
   "outputs": [
    {
     "name": "stdout",
     "output_type": "stream",
     "text": [
      "digite un lado3\n",
      "digite el otro2\n"
     ]
    },
    {
     "data": {
      "text/plain": [
       "10"
      ]
     },
     "execution_count": 12,
     "metadata": {},
     "output_type": "execute_result"
    }
   ],
   "source": [
    "def perimeter(x,y):\n",
    "    return 2*int(x)+2*int(y)\n",
    "perimeter(input(\"digite un lado\"),input(\"digite el otro\"))"
   ]
  },
  {
   "cell_type": "markdown",
   "metadata": {
    "colab_type": "text",
    "id": "tlQ12lX-qyc5"
   },
   "source": [
    "__7 exercise__\n",
    "\n",
    "+ Create a class that saves the name of a person, his height in meters and weights in kilograms.\n",
    "+ This class must have a operation which calculate the Body mass index (BMI).\n",
    "+ Define a list of 5 persons and print their BMI. "
   ]
  },
  {
   "cell_type": "code",
   "execution_count": 13,
   "metadata": {
    "colab": {},
    "colab_type": "code",
    "id": "D1BlHceZqyc6"
   },
   "outputs": [],
   "source": [
    "class person:\n",
    "    def __init__(self,name,height,weight):\n",
    "        self.name=name\n",
    "        self.height=height\n",
    "        self.weight=weight\n",
    "    def BMI(self):\n",
    "      return self.weight/self.height\n",
    "    def print(self):\n",
    "        print(\"Person {}:\\nh:{}, w:{}, BMI:{}\".format(self.name, self.height, self.weight, self.BMI()))"
   ]
  },
  {
   "cell_type": "code",
   "execution_count": 14,
   "metadata": {
    "colab": {},
    "colab_type": "code",
    "id": "3h0RALyBqyc9"
   },
   "outputs": [],
   "source": [
    "personList = {person(\"a\",1,2),person(\"b\",2,3),person(\"c\",3,4),person(\"d\",4,5),person(\"e\",5,6)}"
   ]
  },
  {
   "cell_type": "code",
   "execution_count": 15,
   "metadata": {
    "colab": {
     "base_uri": "https://localhost:8080/",
     "height": 187
    },
    "colab_type": "code",
    "id": "OELcYOndqyc_",
    "outputId": "d61a5ea8-a9f1-41fb-880f-2718da07f245"
   },
   "outputs": [
    {
     "name": "stdout",
     "output_type": "stream",
     "text": [
      "Person a:\n",
      "h:1, w:2, BMI:2.0\n",
      "Person b:\n",
      "h:2, w:3, BMI:1.5\n",
      "Person c:\n",
      "h:3, w:4, BMI:1.3333333333333333\n",
      "Person d:\n",
      "h:4, w:5, BMI:1.25\n",
      "Person e:\n",
      "h:5, w:6, BMI:1.2\n"
     ]
    }
   ],
   "source": [
    "for i in personList:\n",
    "    i.print()"
   ]
  },
  {
   "cell_type": "markdown",
   "metadata": {
    "colab_type": "text",
    "id": "rGpSeDKBqydO"
   },
   "source": [
    "__8 exercise__\n",
    "\n",
    "make a program that prints the numbers from 1 to 100\n",
    "If the number is divisible by 2 then print \"whiz\"\n",
    "if the number is divisible by 3 then print \"bang\""
   ]
  },
  {
   "cell_type": "code",
   "execution_count": 16,
   "metadata": {
    "colab": {
     "base_uri": "https://localhost:8080/",
     "height": 1000
    },
    "colab_type": "code",
    "id": "KIHotruqqydM",
    "outputId": "805ebaa1-c93e-43df-d139-450d621b65a2"
   },
   "outputs": [
    {
     "name": "stdout",
     "output_type": "stream",
     "text": [
      "1 \n",
      "2 whiz\n",
      "3 bang\n",
      "4 whiz\n",
      "5 \n",
      "6 whiz\n",
      "7 \n",
      "8 whiz\n",
      "9 bang\n",
      "10 whiz\n",
      "11 \n",
      "12 whiz\n",
      "13 \n",
      "14 whiz\n",
      "15 bang\n",
      "16 whiz\n",
      "17 \n",
      "18 whiz\n",
      "19 \n",
      "20 whiz\n",
      "21 bang\n",
      "22 whiz\n",
      "23 \n",
      "24 whiz\n",
      "25 \n",
      "26 whiz\n",
      "27 bang\n",
      "28 whiz\n",
      "29 \n",
      "30 whiz\n",
      "31 \n",
      "32 whiz\n",
      "33 bang\n",
      "34 whiz\n",
      "35 \n",
      "36 whiz\n",
      "37 \n",
      "38 whiz\n",
      "39 bang\n",
      "40 whiz\n",
      "41 \n",
      "42 whiz\n",
      "43 \n",
      "44 whiz\n",
      "45 bang\n",
      "46 whiz\n",
      "47 \n",
      "48 whiz\n",
      "49 \n",
      "50 whiz\n",
      "51 bang\n",
      "52 whiz\n",
      "53 \n",
      "54 whiz\n",
      "55 \n",
      "56 whiz\n",
      "57 bang\n",
      "58 whiz\n",
      "59 \n",
      "60 whiz\n",
      "61 \n",
      "62 whiz\n",
      "63 bang\n",
      "64 whiz\n",
      "65 \n",
      "66 whiz\n",
      "67 \n",
      "68 whiz\n",
      "69 bang\n",
      "70 whiz\n",
      "71 \n",
      "72 whiz\n",
      "73 \n",
      "74 whiz\n",
      "75 bang\n",
      "76 whiz\n",
      "77 \n",
      "78 whiz\n",
      "79 \n",
      "80 whiz\n",
      "81 bang\n",
      "82 whiz\n",
      "83 \n",
      "84 whiz\n",
      "85 \n",
      "86 whiz\n",
      "87 bang\n",
      "88 whiz\n",
      "89 \n",
      "90 whiz\n",
      "91 \n",
      "92 whiz\n",
      "93 bang\n",
      "94 whiz\n",
      "95 \n",
      "96 whiz\n",
      "97 \n",
      "98 whiz\n",
      "99 bang\n",
      "100 whiz\n"
     ]
    }
   ],
   "source": [
    "def whizBang(list):\n",
    "  for num in list:\n",
    "    val = 'whiz' if num%2==0 else ('bang' if num%3==0 else '')\n",
    "    print(\"{} {}\".format(num, val))\n",
    "\n",
    "whizBang(range(1,101))"
   ]
  }
 ],
 "metadata": {
  "colab": {
   "collapsed_sections": [],
   "name": "Tarea1.ipynb",
   "provenance": [],
   "version": "0.3.2"
  },
  "kernelspec": {
   "display_name": "Python 3",
   "language": "python",
   "name": "python3"
  },
  "language_info": {
   "codemirror_mode": {
    "name": "ipython",
    "version": 3
   },
   "file_extension": ".py",
   "mimetype": "text/x-python",
   "name": "python",
   "nbconvert_exporter": "python",
   "pygments_lexer": "ipython3",
   "version": "3.6.5"
  }
 },
 "nbformat": 4,
 "nbformat_minor": 1
}
