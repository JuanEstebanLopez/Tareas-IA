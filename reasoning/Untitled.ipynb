{
 "cells": [
  {
   "cell_type": "markdown",
   "metadata": {},
   "source": [
    "## Taller\n",
    "\n",
    "Se propone como entregable de esta unidad la implementación de las reglas del proyecto \"SISTEMA PARA UTILIZACIÓN EFICIENTE DE LOS RECURSOS DE FERTILIZACIÓN EN CULTIVOS DE CAÑA DE AZÚCAR EN EL VALLE GEOGRÁFICO DEL RIO CAUCA\", proyecto realizado por los estudiantes y profesores: Álvaro Pachón De La Cruz, Gonzalo Llano Ramírez, Luis Eduardo Múnera, Camilo Barrios Pérez, Claudia Lubo, Julián Borrero, y Gonzalo Calderón. \n",
    "\n",
    "En el presente proyecto se han desarrollado distintos componentes que permiten ejecutar el diagnóstico del suelo, la propuesta de recomendaciones con base al diagnóstico y a la implementación de la fertilización.\n",
    "\n",
    "La propuesta implementa un sistema experto con alrededor de 346 reglas que hacen parte de los componentes mencionados. Con el fin que ustedes puedan ver la aplicación de un sistema experto en Python, se le ha encomendado implementar las primeras __48__ reglas que permiten realizar el diagnostico con base a tres variables: \n",
    "+ Ph\n",
    "+ CE (conductividad eléctrica)\n",
    "+ Textura del suelo\n",
    "\n",
    "Las reglas las puede encontrar en el siguiente repositorio:\n",
    "https://github.com/kmilichus/AgroTIC/blob/master/ExpertoFertilizacion/src/main/resources/reglas.drl"
   ]
  },
  {
   "cell_type": "code",
   "execution_count": 3,
   "metadata": {},
   "outputs": [],
   "source": [
    "from pyknow import *"
   ]
  },
  {
   "cell_type": "code",
   "execution_count": 4,
   "metadata": {},
   "outputs": [],
   "source": [
    "ALCALINO = \"ALCALINO\"\n",
    "LIGERAMENTE_ALCALINO = \"LIGERAMENTE ALCALINO\"\n",
    "NEUTRO = \"NEUTRO\"\n",
    "LIGERAMENTE_ACIDO = \"LIGERAMENTE ACIDO\"\n",
    "ACIDO = \"ACIDO\"\n",
    "\n",
    "BAJA = \"BAJA\"\n",
    "ALTA = \"ALTA\"\n"
   ]
  },
  {
   "cell_type": "code",
   "execution_count": 31,
   "metadata": {},
   "outputs": [],
   "source": [
    "class Suelo(Fact):\n",
    "    ph = Field(float, mandatory=True)\n",
    "    ce = Field(float, mandatory=True)\n",
    "    tx = Field(float, mandatory=True)\n",
    "    \n",
    "class Analisis(Fact):\n",
    "    pass\n",
    "\n",
    "class AnalisisDeSuelo(KnowledgeEngine):\n",
    "    \n",
    "    @DefFacts()\n",
    "    def initial_result(self):\n",
    "        yield Analisis()\n",
    "    \n",
    "    #rule 0\n",
    "    @Rule(AS.an << Analisis(),\n",
    "          TEST(lambda an: not 'ph' in an),\n",
    "          Suelo(ph=P(lambda x: x >= 7.2)))\n",
    "    def suelo_alcalino(self, an):\n",
    "        print(\"==> ph:\", ALCALINO)\n",
    "        self.modify(an, ph = ALCALINO)\n",
    "    \n",
    "    #rule 1\n",
    "    @Rule(AS.an << Analisis(),\n",
    "          TEST(lambda an: not 'ph' in an),\n",
    "          Suelo(ph=P(lambda x: x > 6.8 and x < 7.2)))\n",
    "    def suelo_ligero_alcalino(self, an):\n",
    "        print(\"==> ph:\", LIGERAMENTE_ALCALINO)\n",
    "        self.modify(an, ph = LIGERAMENTE_ALCALINO)\n",
    "    \n",
    "    #rule 2\n",
    "    @Rule(AS.an << Analisis(),\n",
    "          TEST(lambda an: not 'ph' in an),\n",
    "          Suelo(ph=P(lambda x: x >= 6.2 and x <= 6.8)))\n",
    "    def suelo_neutro(self, an):\n",
    "        print(\"==> ph:\", NEUTRO)\n",
    "        self.modify(an, ph = NEUTRO)\n",
    "        \n",
    "    #rule 3\n",
    "    @Rule(AS.an << Analisis(),\n",
    "          TEST(lambda an: not 'ph' in an),\n",
    "          Suelo(ph=P(lambda x: x > 5.6 and x < 6.2)))\n",
    "    def suelo_ligero_acido(self, an):\n",
    "        print(\"==> ph:\", LIGERAMENTE_ACIDO)\n",
    "        self.modify(an, ph = LIGERAMENTE_ACIDO)\n",
    "    #rule 4\n",
    "    @Rule(AS.an << Analisis(),\n",
    "          TEST(lambda an: not 'ph' in an),\n",
    "          Suelo(ph=P(lambda x: x < 5.6)))\n",
    "    def suelo_acido(self, an):\n",
    "        print(\"==> ph:\", ACIDO)\n",
    "        self.modify(an, ph = ACIDO)\n",
    "    \n",
    "    \n",
    "    \n",
    "    # rule 5\n",
    "    @Rule(AS.an << Analisis(),\n",
    "          TEST(lambda an: not 'ce' in an),\n",
    "          Suelo(ce=P(lambda x: x < 0.8)))\n",
    "    def suelo_acido(self, an):\n",
    "        print(\"==> conductividadElectrica:\", BAJA)\n",
    "        self.modify(an, ce = BAJA)\n",
    "    \n",
    "    #rule 6\n",
    "    @Rule(AS.an << Analisis(),\n",
    "          TEST(lambda an: not 'ce' in an),\n",
    "          Suelo(ce=P(lambda x: x >= 0.8)))\n",
    "    def suelo_acido(self, an):\n",
    "        print(\"==> conductividadElectrica:\", ALTA)\n",
    "        self.modify(an, ce = ALTA)\n",
    "    \n",
    "    # rule 7 rule 8 \n",
    "    @Rule(AS.an << Analisis(),\n",
    "          TEST(lambda an: not 'es' in an),\n",
    "          OR(Analisis(ph=ALCALINO), Analisis(ph=LIGERAMENTE_ALCALINO)))\n",
    "    def _(self, an):\n",
    "        print(\"==> ExtractoSoluble:\", True)\n",
    "        self.modify(an, es = True)\n",
    "    \n",
    "    \n",
    "\n",
    "    \n",
    "    #rule 9 \n",
    "    #( arcilla >= 40.0 && PH == ALCALINO && conductividadElectrica == ALTA)\n",
    "    @Rule(AND(Suelo(ar=P(lambda x: x >= 40.0)), Analisis(ph=ALCALINO, ce=ALTA)))\n",
    "    def suelo_alcalino_extractosoluble(self):        \n",
    "        print(\"     |-(1) Limitaciones de movimiento de agua\");\n",
    "        print(\"     |-(2) Baja difusion de Oxigeno y flujo de gases\");    \n",
    "        print(\"     |-(3) Baja mineralizacion de MO (Baja actvidad microbiologica\");\n",
    "        print(\"     |-(4) Acumulacion de iones alcalinoterreos\t\");\n",
    "    \n",
    "    \n",
    "    \n",
    "    \n"
   ]
  },
  {
   "cell_type": "code",
   "execution_count": 32,
   "metadata": {},
   "outputs": [
    {
     "name": "stdout",
     "output_type": "stream",
     "text": [
      "==> conductividadElectrica: ALTA\n",
      "==> ph: ALCALINO\n",
      "==> ExtractoSoluble: True\n",
      "Fin\n"
     ]
    }
   ],
   "source": [
    "ads = AnalisisDeSuelo()\n",
    "ads.reset()\n",
    "ads.declare(Suelo(ph=7.9,ce=5.4,tx=3.8))\n",
    "ads.run()\n",
    "\n",
    "print(\"Fin\")"
   ]
  },
  {
   "cell_type": "code",
   "execution_count": null,
   "metadata": {},
   "outputs": [],
   "source": []
  },
  {
   "cell_type": "code",
   "execution_count": null,
   "metadata": {},
   "outputs": [],
   "source": []
  }
 ],
 "metadata": {
  "kernelspec": {
   "display_name": "Python 3",
   "language": "python",
   "name": "python3"
  },
  "language_info": {
   "codemirror_mode": {
    "name": "ipython",
    "version": 3
   },
   "file_extension": ".py",
   "mimetype": "text/x-python",
   "name": "python",
   "nbconvert_exporter": "python",
   "pygments_lexer": "ipython3",
   "version": "3.6.5"
  }
 },
 "nbformat": 4,
 "nbformat_minor": 2
}
