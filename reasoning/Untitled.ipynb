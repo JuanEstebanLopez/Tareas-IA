{
 "cells": [
  {
   "cell_type": "markdown",
   "metadata": {},
   "source": [
    "## Taller\n",
    "\n",
    "Se propone como entregable de esta unidad la implementación de las reglas del proyecto \"SISTEMA PARA UTILIZACIÓN EFICIENTE DE LOS RECURSOS DE FERTILIZACIÓN EN CULTIVOS DE CAÑA DE AZÚCAR EN EL VALLE GEOGRÁFICO DEL RIO CAUCA\", proyecto realizado por los estudiantes y profesores: Álvaro Pachón De La Cruz, Gonzalo Llano Ramírez, Luis Eduardo Múnera, Camilo Barrios Pérez, Claudia Lubo, Julián Borrero, y Gonzalo Calderón. \n",
    "\n",
    "En el presente proyecto se han desarrollado distintos componentes que permiten ejecutar el diagnóstico del suelo, la propuesta de recomendaciones con base al diagnóstico y a la implementación de la fertilización.\n",
    "\n",
    "La propuesta implementa un sistema experto con alrededor de 346 reglas que hacen parte de los componentes mencionados. Con el fin que ustedes puedan ver la aplicación de un sistema experto en Python, se le ha encomendado implementar las primeras __48__ reglas que permiten realizar el diagnostico con base a tres variables: \n",
    "+ Ph\n",
    "+ CE (conductividad eléctrica)\n",
    "+ Textura del suelo\n",
    "\n",
    "Las reglas las puede encontrar en el siguiente repositorio:\n",
    "https://github.com/kmilichus/AgroTIC/blob/master/ExpertoFertilizacion/src/main/resources/reglas.drl"
   ]
  },
  {
   "cell_type": "code",
   "execution_count": 1,
   "metadata": {},
   "outputs": [],
   "source": [
    "from pyknow import *"
   ]
  },
  {
   "cell_type": "code",
   "execution_count": 77,
   "metadata": {},
   "outputs": [],
   "source": [
    "ALCALINO = \"ALCALINO\"\n",
    "LIGERAMENTE_ALCALINO = \"LIGERAMENTE ALCALINO\"\n",
    "NEUTRO = \"NEUTRO\"\n",
    "LIGERAMENTE_ACIDO = \"LIGERAMENTE ACIDO\"\n",
    "ACIDO = \"ACIDO\"\n",
    "\n",
    "BAJA = \"BAJA\"\n",
    "ALTA = \"ALTA\"\n"
   ]
  },
  {
   "cell_type": "code",
   "execution_count": 84,
   "metadata": {},
   "outputs": [],
   "source": [
    "class Suelo(Fact):\n",
    "    ph = Field(float, mandatory=True)\n",
    "    ce = Field(float, mandatory=True)\n",
    "    tx = Field(float, mandatory=True)\n",
    "    \n",
    "class Analisis(Fact):\n",
    "    pass\n",
    "\n",
    "class AnalisisDeSuelo(KnowledgeEngine):\n",
    "    \n",
    "    #rule 0\n",
    "    @Rule(Suelo(ph=P(lambda x: x >= 7.2)))\n",
    "    def suelo_alcalino(self):\n",
    "        print(\"==> ph:\", ALCALINO)\n",
    "        self.declare(Analisis(ph = ALCALINO))\n",
    "    \n",
    "    #rule 1\n",
    "    @Rule(Suelo(ph=P(lambda x: x > 6.8 and x < 7.2)))\n",
    "    def suelo_ligero_alcalino(self):\n",
    "        print(\"==> ph:\", LIGERAMENTE_ALCALINO)\n",
    "        self.declare(Analisis(ph = LIGERAMENTE_ALCALINO))\n",
    "    \n",
    "    #rule 2\n",
    "    @Rule(Suelo(ph=P(lambda x: x >= 6.2 and x <= 6.8)))\n",
    "    def suelo_neutro(self):\n",
    "        print(\"==> ph:\", NEUTRO)\n",
    "        self.declare(Analisis(ph = NEUTRO))\n",
    "        \n",
    "    #rule 3\n",
    "    @Rule(Suelo(ph=P(lambda x: x > 5.6 and x < 6.2)))\n",
    "    def suelo_ligero_acido(self):\n",
    "        print(\"==> ph:\", LIGERAMENTE_ACIDO)\n",
    "        self.declare(Analisis(ph = LIGERAMENTE_ACIDO))\n",
    "    #rule 4\n",
    "    @Rule(Suelo(ph=P(lambda x: x < 5.6)))\n",
    "    def suelo_acido(self):\n",
    "        print(\"==> ph:\", ACIDO)\n",
    "        self.declare(Analisis(ph = ACIDO))\n",
    "    \n",
    "    \n",
    "    \n",
    "    # rule 5\n",
    "    @Rule(Suelo(ce=P(lambda x: x < 0.8)))\n",
    "    def suelo_acido(self):\n",
    "        print(\"==> conductividadElectrica:\", BAJA)\n",
    "        self.declare(Analisis(ce = BAJA))\n",
    "    \n",
    "    #rule 6\n",
    "    @Rule(Suelo(ce=P(lambda x: x >= 0.8)))\n",
    "    def suelo_acido(self):\n",
    "        print(\"==> conductividadElectrica:\", ALTA)\n",
    "        self.declare(Analisis(ce = ALTA))\n",
    "    \n",
    "    # rule 7 rule 8 \n",
    "    @Rule(OR(Analisis(ph=ALCALINO), Analisis(ph=LIGERAMENTE_ALCALINO)))\n",
    "    def suelo_alcalino_extractosoluble(self):\n",
    "        print(\"==> ExtractoSoluble:\", True)\n",
    "        self.declare(Analisis(es = True))\n",
    "    \n",
    "    \n",
    "\n",
    "    \n",
    "    #rule 9 \n",
    "    #( arcilla >= 40.0 && PH == ALCALINO && conductividadElectrica == ALTA)\n",
    "    \n",
    "    \n",
    "    # => \n",
    "    #System.out.println(\"     |-(1) Limitaciones de movimiento de agua\");\n",
    "    #System.out.println(\"     |-(2) Baja difusion de Oxigeno y flujo de gases\");    \n",
    "    #System.out.println(\"     |-(3) Baja mineralizacion de MO (Baja actvidad microbiologica\");\n",
    "    #System.out.println(\"     |-(4) Acumulacion de iones alcalinoterreos\t\");\n",
    "    \n",
    "    \n",
    "    \n",
    "    \n"
   ]
  },
  {
   "cell_type": "code",
   "execution_count": 85,
   "metadata": {},
   "outputs": [
    {
     "name": "stdout",
     "output_type": "stream",
     "text": [
      "==> ph: ALCALINO\n",
      "==> ExtractoSoluble: True\n",
      "==> conductividadElectrica: ALTA\n",
      "Fin\n"
     ]
    }
   ],
   "source": [
    "ads = AnalisisDeSuelo()\n",
    "ads.reset()\n",
    "ads.declare(Suelo(ph=7.9,ce=5.4,tx=3.8))\n",
    "ads.run()\n",
    "print(\"Fin\")"
   ]
  },
  {
   "cell_type": "code",
   "execution_count": null,
   "metadata": {},
   "outputs": [],
   "source": []
  }
 ],
 "metadata": {
  "kernelspec": {
   "display_name": "Python 3",
   "language": "python",
   "name": "python3"
  },
  "language_info": {
   "codemirror_mode": {
    "name": "ipython",
    "version": 3
   },
   "file_extension": ".py",
   "mimetype": "text/x-python",
   "name": "python",
   "nbconvert_exporter": "python",
   "pygments_lexer": "ipython3",
   "version": "3.6.5"
  }
 },
 "nbformat": 4,
 "nbformat_minor": 2
}
